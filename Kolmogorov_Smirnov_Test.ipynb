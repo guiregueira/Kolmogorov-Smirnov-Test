{
 "cells": [
  {
   "cell_type": "markdown",
   "id": "7411e415",
   "metadata": {},
   "source": [
    "# 1.0 Import Libraries"
   ]
  },
  {
   "cell_type": "markdown",
   "id": "baea920c",
   "metadata": {},
   "source": [
    "Import Relevant Libraries like Yfinance to download stock data, pandas to visualize dataframes and manipulate them, matplotplib to plot some distributions and values, and scipy stats to hel us to calculate the normal distribution faster and numpy to log things"
   ]
  },
  {
   "cell_type": "code",
   "execution_count": 149,
   "id": "e9e0cf21",
   "metadata": {},
   "outputs": [],
   "source": [
    "import yfinance as yf\n",
    "import pandas as pd\n",
    "import matplotlib.pyplot as plt\n",
    "from scipy.stats import norm\n",
    "import numpy as np"
   ]
  },
  {
   "cell_type": "markdown",
   "id": "08c7b65c",
   "metadata": {},
   "source": [
    "# 2.0 Download Stock Data"
   ]
  },
  {
   "cell_type": "markdown",
   "id": "5c373ac5",
   "metadata": {},
   "source": [
    "Using the Yahoo Finance Library to downlaod stock data and calculate the returns in a new column"
   ]
  },
  {
   "cell_type": "code",
   "execution_count": 150,
   "id": "16988e99",
   "metadata": {},
   "outputs": [
    {
     "data": {
      "text/html": [
       "<div>\n",
       "<style scoped>\n",
       "    .dataframe tbody tr th:only-of-type {\n",
       "        vertical-align: middle;\n",
       "    }\n",
       "\n",
       "    .dataframe tbody tr th {\n",
       "        vertical-align: top;\n",
       "    }\n",
       "\n",
       "    .dataframe thead th {\n",
       "        text-align: right;\n",
       "    }\n",
       "</style>\n",
       "<table border=\"1\" class=\"dataframe\">\n",
       "  <thead>\n",
       "    <tr style=\"text-align: right;\">\n",
       "      <th></th>\n",
       "      <th>Open</th>\n",
       "      <th>High</th>\n",
       "      <th>Low</th>\n",
       "      <th>Close</th>\n",
       "      <th>Adj Close</th>\n",
       "      <th>Volume</th>\n",
       "      <th>Returns</th>\n",
       "    </tr>\n",
       "    <tr>\n",
       "      <th>Date</th>\n",
       "      <th></th>\n",
       "      <th></th>\n",
       "      <th></th>\n",
       "      <th></th>\n",
       "      <th></th>\n",
       "      <th></th>\n",
       "      <th></th>\n",
       "    </tr>\n",
       "  </thead>\n",
       "  <tbody>\n",
       "    <tr>\n",
       "      <th>2021-01-04</th>\n",
       "      <td>133.520004</td>\n",
       "      <td>133.610001</td>\n",
       "      <td>126.760002</td>\n",
       "      <td>129.410004</td>\n",
       "      <td>128.617111</td>\n",
       "      <td>143301900</td>\n",
       "      <td>NaN</td>\n",
       "    </tr>\n",
       "    <tr>\n",
       "      <th>2021-01-05</th>\n",
       "      <td>128.889999</td>\n",
       "      <td>131.740005</td>\n",
       "      <td>128.429993</td>\n",
       "      <td>131.009995</td>\n",
       "      <td>130.207306</td>\n",
       "      <td>97664900</td>\n",
       "      <td>0.012364</td>\n",
       "    </tr>\n",
       "    <tr>\n",
       "      <th>2021-01-06</th>\n",
       "      <td>127.720001</td>\n",
       "      <td>131.050003</td>\n",
       "      <td>126.379997</td>\n",
       "      <td>126.599998</td>\n",
       "      <td>125.824318</td>\n",
       "      <td>155088000</td>\n",
       "      <td>-0.033662</td>\n",
       "    </tr>\n",
       "    <tr>\n",
       "      <th>2021-01-07</th>\n",
       "      <td>128.360001</td>\n",
       "      <td>131.630005</td>\n",
       "      <td>127.860001</td>\n",
       "      <td>130.919998</td>\n",
       "      <td>130.117859</td>\n",
       "      <td>109578200</td>\n",
       "      <td>0.034123</td>\n",
       "    </tr>\n",
       "    <tr>\n",
       "      <th>2021-01-08</th>\n",
       "      <td>132.429993</td>\n",
       "      <td>132.630005</td>\n",
       "      <td>130.229996</td>\n",
       "      <td>132.050003</td>\n",
       "      <td>131.240936</td>\n",
       "      <td>105158200</td>\n",
       "      <td>0.008631</td>\n",
       "    </tr>\n",
       "    <tr>\n",
       "      <th>...</th>\n",
       "      <td>...</td>\n",
       "      <td>...</td>\n",
       "      <td>...</td>\n",
       "      <td>...</td>\n",
       "      <td>...</td>\n",
       "      <td>...</td>\n",
       "      <td>...</td>\n",
       "    </tr>\n",
       "    <tr>\n",
       "      <th>2021-12-13</th>\n",
       "      <td>181.119995</td>\n",
       "      <td>182.130005</td>\n",
       "      <td>175.529999</td>\n",
       "      <td>175.740005</td>\n",
       "      <td>175.740005</td>\n",
       "      <td>153237000</td>\n",
       "      <td>-0.020674</td>\n",
       "    </tr>\n",
       "    <tr>\n",
       "      <th>2021-12-14</th>\n",
       "      <td>175.250000</td>\n",
       "      <td>177.740005</td>\n",
       "      <td>172.210007</td>\n",
       "      <td>174.330002</td>\n",
       "      <td>174.330002</td>\n",
       "      <td>139380400</td>\n",
       "      <td>-0.008023</td>\n",
       "    </tr>\n",
       "    <tr>\n",
       "      <th>2021-12-15</th>\n",
       "      <td>175.110001</td>\n",
       "      <td>179.500000</td>\n",
       "      <td>172.309998</td>\n",
       "      <td>179.300003</td>\n",
       "      <td>179.300003</td>\n",
       "      <td>131063300</td>\n",
       "      <td>0.028509</td>\n",
       "    </tr>\n",
       "    <tr>\n",
       "      <th>2021-12-16</th>\n",
       "      <td>179.279999</td>\n",
       "      <td>181.139999</td>\n",
       "      <td>170.750000</td>\n",
       "      <td>172.259995</td>\n",
       "      <td>172.259995</td>\n",
       "      <td>150185800</td>\n",
       "      <td>-0.039264</td>\n",
       "    </tr>\n",
       "    <tr>\n",
       "      <th>2021-12-17</th>\n",
       "      <td>169.929993</td>\n",
       "      <td>173.470001</td>\n",
       "      <td>169.690002</td>\n",
       "      <td>171.139999</td>\n",
       "      <td>171.139999</td>\n",
       "      <td>195432700</td>\n",
       "      <td>-0.006502</td>\n",
       "    </tr>\n",
       "  </tbody>\n",
       "</table>\n",
       "<p>243 rows × 7 columns</p>\n",
       "</div>"
      ],
      "text/plain": [
       "                  Open        High         Low       Close   Adj Close  \\\n",
       "Date                                                                     \n",
       "2021-01-04  133.520004  133.610001  126.760002  129.410004  128.617111   \n",
       "2021-01-05  128.889999  131.740005  128.429993  131.009995  130.207306   \n",
       "2021-01-06  127.720001  131.050003  126.379997  126.599998  125.824318   \n",
       "2021-01-07  128.360001  131.630005  127.860001  130.919998  130.117859   \n",
       "2021-01-08  132.429993  132.630005  130.229996  132.050003  131.240936   \n",
       "...                ...         ...         ...         ...         ...   \n",
       "2021-12-13  181.119995  182.130005  175.529999  175.740005  175.740005   \n",
       "2021-12-14  175.250000  177.740005  172.210007  174.330002  174.330002   \n",
       "2021-12-15  175.110001  179.500000  172.309998  179.300003  179.300003   \n",
       "2021-12-16  179.279999  181.139999  170.750000  172.259995  172.259995   \n",
       "2021-12-17  169.929993  173.470001  169.690002  171.139999  171.139999   \n",
       "\n",
       "               Volume   Returns  \n",
       "Date                             \n",
       "2021-01-04  143301900       NaN  \n",
       "2021-01-05   97664900  0.012364  \n",
       "2021-01-06  155088000 -0.033662  \n",
       "2021-01-07  109578200  0.034123  \n",
       "2021-01-08  105158200  0.008631  \n",
       "...               ...       ...  \n",
       "2021-12-13  153237000 -0.020674  \n",
       "2021-12-14  139380400 -0.008023  \n",
       "2021-12-15  131063300  0.028509  \n",
       "2021-12-16  150185800 -0.039264  \n",
       "2021-12-17  195432700 -0.006502  \n",
       "\n",
       "[243 rows x 7 columns]"
      ]
     },
     "execution_count": 150,
     "metadata": {},
     "output_type": "execute_result"
    }
   ],
   "source": [
    "df=yf.download(\"AAPL\",start=\"2021-01-01\",progress=False)\n",
    "df[\"Returns\"]=df[\"Adj Close\"].pct_change()\n",
    "df"
   ]
  },
  {
   "cell_type": "markdown",
   "id": "8bd99ab6",
   "metadata": {},
   "source": [
    "# 3.0 Sort & Rank Returns"
   ]
  },
  {
   "cell_type": "markdown",
   "id": "f4b6f5ba",
   "metadata": {},
   "source": [
    "Sort the Value by the minimum return to the maximum return and add a column with the Ranks"
   ]
  },
  {
   "cell_type": "code",
   "execution_count": 151,
   "id": "2ac85038",
   "metadata": {},
   "outputs": [
    {
     "data": {
      "text/html": [
       "<div>\n",
       "<style scoped>\n",
       "    .dataframe tbody tr th:only-of-type {\n",
       "        vertical-align: middle;\n",
       "    }\n",
       "\n",
       "    .dataframe tbody tr th {\n",
       "        vertical-align: top;\n",
       "    }\n",
       "\n",
       "    .dataframe thead th {\n",
       "        text-align: right;\n",
       "    }\n",
       "</style>\n",
       "<table border=\"1\" class=\"dataframe\">\n",
       "  <thead>\n",
       "    <tr style=\"text-align: right;\">\n",
       "      <th></th>\n",
       "      <th>Date</th>\n",
       "      <th>Open</th>\n",
       "      <th>High</th>\n",
       "      <th>Low</th>\n",
       "      <th>Close</th>\n",
       "      <th>Adj Close</th>\n",
       "      <th>Volume</th>\n",
       "      <th>Returns</th>\n",
       "    </tr>\n",
       "  </thead>\n",
       "  <tbody>\n",
       "    <tr>\n",
       "      <th>1</th>\n",
       "      <td>2021-03-08</td>\n",
       "      <td>120.930000</td>\n",
       "      <td>121.000000</td>\n",
       "      <td>116.209999</td>\n",
       "      <td>116.360001</td>\n",
       "      <td>115.819870</td>\n",
       "      <td>154376600</td>\n",
       "      <td>-0.041674</td>\n",
       "    </tr>\n",
       "    <tr>\n",
       "      <th>2</th>\n",
       "      <td>2021-12-16</td>\n",
       "      <td>179.279999</td>\n",
       "      <td>181.139999</td>\n",
       "      <td>170.750000</td>\n",
       "      <td>172.259995</td>\n",
       "      <td>172.259995</td>\n",
       "      <td>150185800</td>\n",
       "      <td>-0.039264</td>\n",
       "    </tr>\n",
       "    <tr>\n",
       "      <th>3</th>\n",
       "      <td>2021-01-29</td>\n",
       "      <td>135.830002</td>\n",
       "      <td>136.740005</td>\n",
       "      <td>130.210007</td>\n",
       "      <td>131.960007</td>\n",
       "      <td>131.151489</td>\n",
       "      <td>177523800</td>\n",
       "      <td>-0.037421</td>\n",
       "    </tr>\n",
       "    <tr>\n",
       "      <th>4</th>\n",
       "      <td>2021-05-04</td>\n",
       "      <td>131.190002</td>\n",
       "      <td>131.490005</td>\n",
       "      <td>126.699997</td>\n",
       "      <td>127.849998</td>\n",
       "      <td>127.256538</td>\n",
       "      <td>137564700</td>\n",
       "      <td>-0.035385</td>\n",
       "    </tr>\n",
       "    <tr>\n",
       "      <th>5</th>\n",
       "      <td>2021-01-28</td>\n",
       "      <td>139.520004</td>\n",
       "      <td>141.990005</td>\n",
       "      <td>136.699997</td>\n",
       "      <td>137.089996</td>\n",
       "      <td>136.250046</td>\n",
       "      <td>142621100</td>\n",
       "      <td>-0.034985</td>\n",
       "    </tr>\n",
       "    <tr>\n",
       "      <th>...</th>\n",
       "      <td>...</td>\n",
       "      <td>...</td>\n",
       "      <td>...</td>\n",
       "      <td>...</td>\n",
       "      <td>...</td>\n",
       "      <td>...</td>\n",
       "      <td>...</td>\n",
       "      <td>...</td>\n",
       "    </tr>\n",
       "    <tr>\n",
       "      <th>238</th>\n",
       "      <td>2021-01-07</td>\n",
       "      <td>128.360001</td>\n",
       "      <td>131.630005</td>\n",
       "      <td>127.860001</td>\n",
       "      <td>130.919998</td>\n",
       "      <td>130.117859</td>\n",
       "      <td>109578200</td>\n",
       "      <td>0.034123</td>\n",
       "    </tr>\n",
       "    <tr>\n",
       "      <th>239</th>\n",
       "      <td>2021-12-07</td>\n",
       "      <td>169.080002</td>\n",
       "      <td>171.580002</td>\n",
       "      <td>168.339996</td>\n",
       "      <td>171.179993</td>\n",
       "      <td>171.179993</td>\n",
       "      <td>120405400</td>\n",
       "      <td>0.035446</td>\n",
       "    </tr>\n",
       "    <tr>\n",
       "      <th>240</th>\n",
       "      <td>2021-01-21</td>\n",
       "      <td>133.800003</td>\n",
       "      <td>139.669998</td>\n",
       "      <td>133.589996</td>\n",
       "      <td>136.869995</td>\n",
       "      <td>136.031387</td>\n",
       "      <td>120150900</td>\n",
       "      <td>0.036658</td>\n",
       "    </tr>\n",
       "    <tr>\n",
       "      <th>241</th>\n",
       "      <td>2021-03-09</td>\n",
       "      <td>119.029999</td>\n",
       "      <td>122.059998</td>\n",
       "      <td>118.790001</td>\n",
       "      <td>121.089996</td>\n",
       "      <td>120.527916</td>\n",
       "      <td>129525800</td>\n",
       "      <td>0.040650</td>\n",
       "    </tr>\n",
       "    <tr>\n",
       "      <th>242</th>\n",
       "      <td>2021-03-01</td>\n",
       "      <td>123.750000</td>\n",
       "      <td>127.930000</td>\n",
       "      <td>122.790001</td>\n",
       "      <td>127.790001</td>\n",
       "      <td>127.196815</td>\n",
       "      <td>116307900</td>\n",
       "      <td>0.053851</td>\n",
       "    </tr>\n",
       "  </tbody>\n",
       "</table>\n",
       "<p>242 rows × 8 columns</p>\n",
       "</div>"
      ],
      "text/plain": [
       "          Date        Open        High         Low       Close   Adj Close  \\\n",
       "1   2021-03-08  120.930000  121.000000  116.209999  116.360001  115.819870   \n",
       "2   2021-12-16  179.279999  181.139999  170.750000  172.259995  172.259995   \n",
       "3   2021-01-29  135.830002  136.740005  130.210007  131.960007  131.151489   \n",
       "4   2021-05-04  131.190002  131.490005  126.699997  127.849998  127.256538   \n",
       "5   2021-01-28  139.520004  141.990005  136.699997  137.089996  136.250046   \n",
       "..         ...         ...         ...         ...         ...         ...   \n",
       "238 2021-01-07  128.360001  131.630005  127.860001  130.919998  130.117859   \n",
       "239 2021-12-07  169.080002  171.580002  168.339996  171.179993  171.179993   \n",
       "240 2021-01-21  133.800003  139.669998  133.589996  136.869995  136.031387   \n",
       "241 2021-03-09  119.029999  122.059998  118.790001  121.089996  120.527916   \n",
       "242 2021-03-01  123.750000  127.930000  122.790001  127.790001  127.196815   \n",
       "\n",
       "        Volume   Returns  \n",
       "1    154376600 -0.041674  \n",
       "2    150185800 -0.039264  \n",
       "3    177523800 -0.037421  \n",
       "4    137564700 -0.035385  \n",
       "5    142621100 -0.034985  \n",
       "..         ...       ...  \n",
       "238  109578200  0.034123  \n",
       "239  120405400  0.035446  \n",
       "240  120150900  0.036658  \n",
       "241  129525800  0.040650  \n",
       "242  116307900  0.053851  \n",
       "\n",
       "[242 rows x 8 columns]"
      ]
     },
     "execution_count": 151,
     "metadata": {},
     "output_type": "execute_result"
    }
   ],
   "source": [
    "df=df.sort_values(by=['Returns'])\n",
    "df=df.reset_index() # Rank \n",
    "df.index=df.index+1\n",
    "df=df.dropna()\n",
    "df"
   ]
  },
  {
   "cell_type": "markdown",
   "id": "87945317",
   "metadata": {},
   "source": [
    "# 4.0 Mean & Std of Returns"
   ]
  },
  {
   "cell_type": "markdown",
   "id": "6d768ad7",
   "metadata": {},
   "source": [
    "Calculating Mean, Standard Deviation and number of observations in our dataframe"
   ]
  },
  {
   "cell_type": "code",
   "execution_count": 152,
   "id": "2ecc0d44",
   "metadata": {},
   "outputs": [
    {
     "name": "stdout",
     "output_type": "stream",
     "text": [
      "Mean: 0.1307% \n",
      "Standard Deviation: 1.5893% \n",
      "Number of Observations: 242\n"
     ]
    }
   ],
   "source": [
    "mean=df[\"Returns\"].mean()\n",
    "std=df[\"Returns\"].std()\n",
    "number_observations=len(df[\"Adj Close\"])\n",
    "print(f\"Mean: {(mean*100):.4f}% \")\n",
    "print(f\"Standard Deviation: {(std*100):.4f}% \")\n",
    "print(f\"Number of Observations: {number_observations}\")"
   ]
  },
  {
   "cell_type": "markdown",
   "id": "973f81ea",
   "metadata": {},
   "source": [
    "# 5.0 Empirical Distribution"
   ]
  },
  {
   "cell_type": "markdown",
   "id": "96cfda5f",
   "metadata": {},
   "source": [
    "Ploting what is the expected formation of the distribution to be consider normally distributed"
   ]
  },
  {
   "cell_type": "code",
   "execution_count": 153,
   "id": "f2ffca34",
   "metadata": {},
   "outputs": [
    {
     "data": {
      "text/plain": [
       "[<matplotlib.lines.Line2D at 0x299e17dd670>]"
      ]
     },
     "execution_count": 153,
     "metadata": {},
     "output_type": "execute_result"
    },
    {
     "data": {
      "image/png": "[encoded data removed]",
      "text/plain": [
       "<Figure size 1584x576 with 1 Axes>"
      ]
     },
     "metadata": {},
     "output_type": "display_data"
    }
   ],
   "source": [
    "plt.style.use(\"dark_background\")\n",
    "plt.figure(figsize=(22,8))\n",
    "plt.title(\"Empirical Distribution\",fontsize=20)\n",
    "df[\"Empirical_Distribution\"]=df.index/number_observations\n",
    "plt.plot(df[\"Returns\"],df[\"Empirical_Distribution\"],color=\"Orange\",linewidth=3)"
   ]
  },
  {
   "cell_type": "markdown",
   "id": "8a4a21cb",
   "metadata": {},
   "source": [
    "# 6.0 Real Distribution"
   ]
  },
  {
   "cell_type": "markdown",
   "id": "d0896263",
   "metadata": {},
   "source": [
    "Ploting what is the Real formation of the distribution "
   ]
  },
  {
   "cell_type": "code",
   "execution_count": 154,
   "id": "53f9d250",
   "metadata": {},
   "outputs": [
    {
     "data": {
      "text/plain": [
       "[<matplotlib.lines.Line2D at 0x299e183e160>]"
      ]
     },
     "execution_count": 154,
     "metadata": {},
     "output_type": "execute_result"
    },
    {
     "data": {
      "image/png": "[encoded data removed]",
      "text/plain": [
       "<Figure size 1584x576 with 1 Axes>"
      ]
     },
     "metadata": {},
     "output_type": "display_data"
    }
   ],
   "source": [
    "df[\"Real_Distribution\"]=norm.cdf(df[\"Returns\"],mean,std) # Cumulative Normal Distribution\n",
    "plt.style.use(\"dark_background\")\n",
    "plt.figure(figsize=(22,8))\n",
    "plt.title(\"Real Distribution\",fontsize=20)\n",
    "plt.plot(df[\"Returns\"],df[\"Real_Distribution\"],color=\"orange\",linewidth=3)"
   ]
  },
  {
   "cell_type": "markdown",
   "id": "b3c1f61d",
   "metadata": {},
   "source": [
    "# 7.0 Plot Real & Empirical Distributions"
   ]
  },
  {
   "cell_type": "markdown",
   "id": "eb7d1f36",
   "metadata": {},
   "source": [
    "Comparing the real distribution find by the values downloaded by the empirical distribution calculated by the \"expected\" curve formation following the Normal Distribution"
   ]
  },
  {
   "cell_type": "code",
   "execution_count": 155,
   "id": "b6e813c4",
   "metadata": {},
   "outputs": [
    {
     "data": {
      "text/plain": [
       "<matplotlib.legend.Legend at 0x299e1892fd0>"
      ]
     },
     "execution_count": 155,
     "metadata": {},
     "output_type": "execute_result"
    },
    {
     "data": {
      "image/png": "[encoded data removed]",
      "text/plain": [
       "<Figure size 1584x576 with 1 Axes>"
      ]
     },
     "metadata": {},
     "output_type": "display_data"
    }
   ],
   "source": [
    "plt.figure(figsize=(22,8))\n",
    "plt.title(\"Comparing the 2 distributions\",fontsize=20)\n",
    "plt.plot(df[\"Returns\"],df[\"Real_Distribution\"],color=\"red\",linewidth=2,label=\"Real Distribution\")\n",
    "plt.plot(df[\"Returns\"],df[\"Empirical_Distribution\"],color=\"blue\",linewidth=2,label=\"Empirical Distribution\")\n",
    "plt.legend()"
   ]
  },
  {
   "cell_type": "markdown",
   "id": "07c6e259",
   "metadata": {},
   "source": [
    "# 8.0 Differences between Empirical & Real Distribution"
   ]
  },
  {
   "cell_type": "markdown",
   "id": "60ecf9fe",
   "metadata": {},
   "source": [
    "Calculating the absolute differences between empirical and real distribution"
   ]
  },
  {
   "cell_type": "code",
   "execution_count": 156,
   "id": "b79b2e8c",
   "metadata": {},
   "outputs": [
    {
     "data": {
      "text/html": [
       "<div>\n",
       "<style scoped>\n",
       "    .dataframe tbody tr th:only-of-type {\n",
       "        vertical-align: middle;\n",
       "    }\n",
       "\n",
       "    .dataframe tbody tr th {\n",
       "        vertical-align: top;\n",
       "    }\n",
       "\n",
       "    .dataframe thead th {\n",
       "        text-align: right;\n",
       "    }\n",
       "</style>\n",
       "<table border=\"1\" class=\"dataframe\">\n",
       "  <thead>\n",
       "    <tr style=\"text-align: right;\">\n",
       "      <th></th>\n",
       "      <th>Date</th>\n",
       "      <th>Open</th>\n",
       "      <th>High</th>\n",
       "      <th>Low</th>\n",
       "      <th>Close</th>\n",
       "      <th>Adj Close</th>\n",
       "      <th>Volume</th>\n",
       "      <th>Returns</th>\n",
       "      <th>Empirical_Distribution</th>\n",
       "      <th>Real_Distribution</th>\n",
       "      <th>Difference</th>\n",
       "    </tr>\n",
       "  </thead>\n",
       "  <tbody>\n",
       "    <tr>\n",
       "      <th>1</th>\n",
       "      <td>2021-03-08</td>\n",
       "      <td>120.930000</td>\n",
       "      <td>121.000000</td>\n",
       "      <td>116.209999</td>\n",
       "      <td>116.360001</td>\n",
       "      <td>115.819870</td>\n",
       "      <td>154376600</td>\n",
       "      <td>-0.041674</td>\n",
       "      <td>0.004132</td>\n",
       "      <td>0.003421</td>\n",
       "      <td>0.000711</td>\n",
       "    </tr>\n",
       "    <tr>\n",
       "      <th>2</th>\n",
       "      <td>2021-12-16</td>\n",
       "      <td>179.279999</td>\n",
       "      <td>181.139999</td>\n",
       "      <td>170.750000</td>\n",
       "      <td>172.259995</td>\n",
       "      <td>172.259995</td>\n",
       "      <td>150185800</td>\n",
       "      <td>-0.039264</td>\n",
       "      <td>0.008264</td>\n",
       "      <td>0.005343</td>\n",
       "      <td>0.002921</td>\n",
       "    </tr>\n",
       "    <tr>\n",
       "      <th>3</th>\n",
       "      <td>2021-01-29</td>\n",
       "      <td>135.830002</td>\n",
       "      <td>136.740005</td>\n",
       "      <td>130.210007</td>\n",
       "      <td>131.960007</td>\n",
       "      <td>131.151489</td>\n",
       "      <td>177523800</td>\n",
       "      <td>-0.037421</td>\n",
       "      <td>0.012397</td>\n",
       "      <td>0.007409</td>\n",
       "      <td>0.004988</td>\n",
       "    </tr>\n",
       "    <tr>\n",
       "      <th>4</th>\n",
       "      <td>2021-05-04</td>\n",
       "      <td>131.190002</td>\n",
       "      <td>131.490005</td>\n",
       "      <td>126.699997</td>\n",
       "      <td>127.849998</td>\n",
       "      <td>127.256538</td>\n",
       "      <td>137564700</td>\n",
       "      <td>-0.035385</td>\n",
       "      <td>0.016529</td>\n",
       "      <td>0.010479</td>\n",
       "      <td>0.006050</td>\n",
       "    </tr>\n",
       "    <tr>\n",
       "      <th>5</th>\n",
       "      <td>2021-01-28</td>\n",
       "      <td>139.520004</td>\n",
       "      <td>141.990005</td>\n",
       "      <td>136.699997</td>\n",
       "      <td>137.089996</td>\n",
       "      <td>136.250046</td>\n",
       "      <td>142621100</td>\n",
       "      <td>-0.034985</td>\n",
       "      <td>0.020661</td>\n",
       "      <td>0.011198</td>\n",
       "      <td>0.009463</td>\n",
       "    </tr>\n",
       "    <tr>\n",
       "      <th>...</th>\n",
       "      <td>...</td>\n",
       "      <td>...</td>\n",
       "      <td>...</td>\n",
       "      <td>...</td>\n",
       "      <td>...</td>\n",
       "      <td>...</td>\n",
       "      <td>...</td>\n",
       "      <td>...</td>\n",
       "      <td>...</td>\n",
       "      <td>...</td>\n",
       "      <td>...</td>\n",
       "    </tr>\n",
       "    <tr>\n",
       "      <th>238</th>\n",
       "      <td>2021-01-07</td>\n",
       "      <td>128.360001</td>\n",
       "      <td>131.630005</td>\n",
       "      <td>127.860001</td>\n",
       "      <td>130.919998</td>\n",
       "      <td>130.117859</td>\n",
       "      <td>109578200</td>\n",
       "      <td>0.034123</td>\n",
       "      <td>0.983471</td>\n",
       "      <td>0.980533</td>\n",
       "      <td>0.002938</td>\n",
       "    </tr>\n",
       "    <tr>\n",
       "      <th>239</th>\n",
       "      <td>2021-12-07</td>\n",
       "      <td>169.080002</td>\n",
       "      <td>171.580002</td>\n",
       "      <td>168.339996</td>\n",
       "      <td>171.179993</td>\n",
       "      <td>171.179993</td>\n",
       "      <td>120405400</td>\n",
       "      <td>0.035446</td>\n",
       "      <td>0.987603</td>\n",
       "      <td>0.984149</td>\n",
       "      <td>0.003455</td>\n",
       "    </tr>\n",
       "    <tr>\n",
       "      <th>240</th>\n",
       "      <td>2021-01-21</td>\n",
       "      <td>133.800003</td>\n",
       "      <td>139.669998</td>\n",
       "      <td>133.589996</td>\n",
       "      <td>136.869995</td>\n",
       "      <td>136.031387</td>\n",
       "      <td>120150900</td>\n",
       "      <td>0.036658</td>\n",
       "      <td>0.991736</td>\n",
       "      <td>0.986939</td>\n",
       "      <td>0.004796</td>\n",
       "    </tr>\n",
       "    <tr>\n",
       "      <th>241</th>\n",
       "      <td>2021-03-09</td>\n",
       "      <td>119.029999</td>\n",
       "      <td>122.059998</td>\n",
       "      <td>118.790001</td>\n",
       "      <td>121.089996</td>\n",
       "      <td>120.527916</td>\n",
       "      <td>129525800</td>\n",
       "      <td>0.040650</td>\n",
       "      <td>0.995868</td>\n",
       "      <td>0.993348</td>\n",
       "      <td>0.002519</td>\n",
       "    </tr>\n",
       "    <tr>\n",
       "      <th>242</th>\n",
       "      <td>2021-03-01</td>\n",
       "      <td>123.750000</td>\n",
       "      <td>127.930000</td>\n",
       "      <td>122.790001</td>\n",
       "      <td>127.790001</td>\n",
       "      <td>127.196815</td>\n",
       "      <td>116307900</td>\n",
       "      <td>0.053851</td>\n",
       "      <td>1.000000</td>\n",
       "      <td>0.999527</td>\n",
       "      <td>0.000473</td>\n",
       "    </tr>\n",
       "  </tbody>\n",
       "</table>\n",
       "<p>242 rows × 11 columns</p>\n",
       "</div>"
      ],
      "text/plain": [
       "          Date        Open        High         Low       Close   Adj Close  \\\n",
       "1   2021-03-08  120.930000  121.000000  116.209999  116.360001  115.819870   \n",
       "2   2021-12-16  179.279999  181.139999  170.750000  172.259995  172.259995   \n",
       "3   2021-01-29  135.830002  136.740005  130.210007  131.960007  131.151489   \n",
       "4   2021-05-04  131.190002  131.490005  126.699997  127.849998  127.256538   \n",
       "5   2021-01-28  139.520004  141.990005  136.699997  137.089996  136.250046   \n",
       "..         ...         ...         ...         ...         ...         ...   \n",
       "238 2021-01-07  128.360001  131.630005  127.860001  130.919998  130.117859   \n",
       "239 2021-12-07  169.080002  171.580002  168.339996  171.179993  171.179993   \n",
       "240 2021-01-21  133.800003  139.669998  133.589996  136.869995  136.031387   \n",
       "241 2021-03-09  119.029999  122.059998  118.790001  121.089996  120.527916   \n",
       "242 2021-03-01  123.750000  127.930000  122.790001  127.790001  127.196815   \n",
       "\n",
       "        Volume   Returns  Empirical_Distribution  Real_Distribution  \\\n",
       "1    154376600 -0.041674                0.004132           0.003421   \n",
       "2    150185800 -0.039264                0.008264           0.005343   \n",
       "3    177523800 -0.037421                0.012397           0.007409   \n",
       "4    137564700 -0.035385                0.016529           0.010479   \n",
       "5    142621100 -0.034985                0.020661           0.011198   \n",
       "..         ...       ...                     ...                ...   \n",
       "238  109578200  0.034123                0.983471           0.980533   \n",
       "239  120405400  0.035446                0.987603           0.984149   \n",
       "240  120150900  0.036658                0.991736           0.986939   \n",
       "241  129525800  0.040650                0.995868           0.993348   \n",
       "242  116307900  0.053851                1.000000           0.999527   \n",
       "\n",
       "     Difference  \n",
       "1      0.000711  \n",
       "2      0.002921  \n",
       "3      0.004988  \n",
       "4      0.006050  \n",
       "5      0.009463  \n",
       "..          ...  \n",
       "238    0.002938  \n",
       "239    0.003455  \n",
       "240    0.004796  \n",
       "241    0.002519  \n",
       "242    0.000473  \n",
       "\n",
       "[242 rows x 11 columns]"
      ]
     },
     "execution_count": 156,
     "metadata": {},
     "output_type": "execute_result"
    }
   ],
   "source": [
    "df[\"Difference\"]=abs(df[\"Empirical_Distribution\"]-df[\"Real_Distribution\"])\n",
    "df"
   ]
  },
  {
   "cell_type": "markdown",
   "id": "7cb55a7d",
   "metadata": {},
   "source": [
    "# 9.0 Supremum"
   ]
  },
  {
   "cell_type": "markdown",
   "id": "e0a05c0c",
   "metadata": {},
   "source": [
    "Supremum is the max absolute difference between the real and the empirical distributions"
   ]
  },
  {
   "cell_type": "code",
   "execution_count": 157,
   "id": "a3a7775a",
   "metadata": {},
   "outputs": [
    {
     "name": "stdout",
     "output_type": "stream",
     "text": [
      "Supremum: 4.5409%\n"
     ]
    }
   ],
   "source": [
    "supremum=max(df[\"Difference\"])\n",
    "print(f\"Supremum: {supremum*100:.4f}%\")"
   ]
  },
  {
   "cell_type": "markdown",
   "id": "94f88798",
   "metadata": {},
   "source": [
    "# 10.0 Kolmogorov-Smirnov Statistic"
   ]
  },
  {
   "cell_type": "markdown",
   "id": "4bdd581f",
   "metadata": {},
   "source": [
    "Using the Kolmogorov-Smirnov Statistic too find the observed value"
   ]
  },
  {
   "cell_type": "code",
   "execution_count": 158,
   "id": "b6281500",
   "metadata": {},
   "outputs": [
    {
     "data": {
      "text/plain": [
       "0.7064012391998696"
      ]
     },
     "execution_count": 158,
     "metadata": {},
     "output_type": "execute_result"
    }
   ],
   "source": [
    "observed_value=supremum*np.sqrt((number_observations))\n",
    "observed_value"
   ]
  },
  {
   "cell_type": "markdown",
   "id": "25d6172e",
   "metadata": {},
   "source": [
    "# 11.0 Results Analysis"
   ]
  },
  {
   "cell_type": "markdown",
   "id": "f475fc9b",
   "metadata": {},
   "source": [
    "The confidence used in the test is 1%, se I want to test if the observed value finded above is significant to prove that my distribution is normal or not"
   ]
  },
  {
   "cell_type": "code",
   "execution_count": 159,
   "id": "33520480",
   "metadata": {},
   "outputs": [
    {
     "data": {
      "text/plain": [
       "1.6276236307187293"
      ]
     },
     "execution_count": 159,
     "metadata": {},
     "output_type": "execute_result"
    }
   ],
   "source": [
    "confidence=0.01\n",
    "critical_value=np.sqrt(-np.log(confidence/2)*0.5)\n",
    "critical_value"
   ]
  },
  {
   "cell_type": "code",
   "execution_count": 160,
   "id": "5ef40c6b",
   "metadata": {
    "scrolled": true
   },
   "outputs": [
    {
     "name": "stdout",
     "output_type": "stream",
     "text": [
      "Normally Distributed!\n",
      "P-Value: 0.6071358\n"
     ]
    }
   ],
   "source": [
    "if observed_value>critical_value:\n",
    "    print(\"Not Normally Distributed\")\n",
    "if observed_value<=critical_value:\n",
    "    print(\"Normally Distributed!\")\n",
    "p_value=np.exp(-supremum**2*number_observations)\n",
    "print(f\"P-Value: {p_value:.7f}\")"
   ]
  }
 ],
 "metadata": {
  "kernelspec": {
   "display_name": "Python 3 (ipykernel)",
   "language": "python",
   "name": "python3"
  },
  "language_info": {
   "codemirror_mode": {
    "name": "ipython",
    "version": 3
   },
   "file_extension": ".py",
   "mimetype": "text/x-python",
   "name": "python",
   "nbconvert_exporter": "python",
   "pygments_lexer": "ipython3",
   "version": "3.9.7"
  }
 },
 "nbformat": 4,
 "nbformat_minor": 5
}
